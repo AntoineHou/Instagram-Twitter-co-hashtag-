{
 "cells": [
  {
   "cell_type": "code",
   "execution_count": 65,
   "id": "5a204c73",
   "metadata": {},
   "outputs": [],
   "source": [
    "import networkx as nx \n",
    "import matplotlib.pyplot as plt\n",
    "from bokeh.io import output_file, show\n",
    "from bokeh.models import (BoxZoomTool, Circle, HoverTool,\n",
    "                          MultiLine, Plot, Range1d, ResetTool,EdgesAndLinkedNodes,TapTool,BoxSelectTool,NodesAndLinkedEdges)\n",
    "from bokeh.palettes import Spectral4\n",
    "from bokeh.plotting import from_networkx\n",
    "import numpy as np\n",
    "import pandas as pd"
   ]
  },
  {
   "cell_type": "code",
   "execution_count": 66,
   "id": "1973233a",
   "metadata": {},
   "outputs": [],
   "source": [
    "G=nx.read_gml(\"\") #Individual network"
   ]
  },
  {
   "cell_type": "code",
   "execution_count": 67,
   "id": "0aab9c85",
   "metadata": {
    "scrolled": true
   },
   "outputs": [
    {
     "name": "stdout",
     "output_type": "stream",
     "text": [
      "Name: \n",
      "Type: Graph\n",
      "Number of nodes: 367\n",
      "Number of edges: 160\n",
      "Average degree:   0.8719\n",
      "[('CUC5SUkoS7V', {'bipartite': 0, 'platform': 'Instagram'}), ('CTxUTNKAthh', {'bipartite': 0, 'platform': 'Instagram'}), ('CTfRb0yofk3', {'bipartite': 0, 'platform': 'Instagram'}), ('CTM-MDEqFH0', {'bipartite': 0, 'platform': 'Instagram'}), ('CTCPsgSgZft', {'bipartite': 0, 'platform': 'Instagram'}), ('CSCYxbEqP05', {'bipartite': 0, 'platform': 'Instagram'}), ('CRvlL2sL1eq', {'bipartite': 0, 'platform': 'Instagram'}), ('CRdkO2qLxgV', {'bipartite': 0, 'platform': 'Instagram'}), ('CRLvNMhLNrs', {'bipartite': 0, 'platform': 'Instagram'}), ('CQ8bz8TrOX_', {'bipartite': 0, 'platform': 'Instagram'}), ('CQ6AJt2ryVj', {'bipartite': 0, 'platform': 'Instagram'}), ('CQ0tfporfM4', {'bipartite': 0, 'platform': 'Instagram'}), ('CQv0hhtrQOd', {'bipartite': 0, 'platform': 'Instagram'}), ('CQtiI-PDq46', {'bipartite': 0, 'platform': 'Instagram'}), ('CQtG0ixL8Ad', {'bipartite': 0, 'platform': 'Instagram'}), ('CQdZzNErfPY', {'bipartite': 0, 'platform': 'Instagram'}), ('CQYkcAoL3vY', {'bipartite': 0, 'platform': 'Instagram'}), ('CQVc8Tfrvbi', {'bipartite': 0, 'platform': 'Instagram'}), ('CQL1TagrGO_', {'bipartite': 0, 'platform': 'Instagram'}), ('CQDbIorLIUJ', {'bipartite': 0, 'platform': 'Instagram'}), ('CP5I-MBqWMD', {'bipartite': 0, 'platform': 'Instagram'}), ('CP2gdkeLkG2', {'bipartite': 0, 'platform': 'Instagram'}), ('CP06U-VrrCl', {'bipartite': 0, 'platform': 'Instagram'}), ('CPxYMMGLNtz', {'bipartite': 0, 'platform': 'Instagram'}), ('CPnM73iK6Uo', {'bipartite': 0, 'platform': 'Instagram'}), ('CPlVUjGr7nl', {'bipartite': 0, 'platform': 'Instagram'}), ('CPiEbXGLttK', {'bipartite': 0, 'platform': 'Instagram'}), ('CPfYfGgL_Bj', {'bipartite': 0, 'platform': 'Instagram'}), ('CPbAvbZKK6G', {'bipartite': 0, 'platform': 'Instagram'}), ('CPU-hRjLn8v', {'bipartite': 0, 'platform': 'Instagram'}), ('CPQbAyJrIUi', {'bipartite': 0, 'platform': 'Instagram'}), ('CPNT7p7o0_A', {'bipartite': 0, 'platform': 'Instagram'}), ('CPGHWKfhK5e', {'bipartite': 0, 'platform': 'Instagram'}), ('CPDIhILBmQH', {'bipartite': 0, 'platform': 'Instagram'}), ('CO-y9qOBq2z', {'bipartite': 0, 'platform': 'Instagram'}), ('CO7SViWIfbh', {'bipartite': 0, 'platform': 'Instagram'}), ('COyMLg0hZGG', {'bipartite': 0, 'platform': 'Instagram'}), ('COvSBAnh5kT', {'bipartite': 0, 'platform': 'Instagram'}), ('COsuGa9ibyJ', {'bipartite': 0, 'platform': 'Instagram'}), ('COpzH-gogbd', {'bipartite': 0, 'platform': 'Instagram'}), ('COpQzzPoIpA', {'bipartite': 0, 'platform': 'Instagram'}), ('COnH1g3hU3T', {'bipartite': 0, 'platform': 'Instagram'}), ('COkNbkrC4e1', {'bipartite': 0, 'platform': 'Instagram'}), ('COe999UinA1', {'bipartite': 0, 'platform': 'Instagram'}), ('COZ1BnIClZ7', {'bipartite': 0, 'platform': 'Instagram'}), ('COXriUZhb95', {'bipartite': 0, 'platform': 'Instagram'}), ('COXPNemI89b', {'bipartite': 0, 'platform': 'Instagram'}), ('COWFrc4BDAu', {'bipartite': 0, 'platform': 'Instagram'}), ('COPeyNxBzmo', {'bipartite': 0, 'platform': 'Instagram'}), ('COIn0jJCoCA', {'bipartite': 0, 'platform': 'Instagram'}), ('1440622968820813827', {'bipartite': 0, 'platform': 'Twitter'}), ('1440586420188377089', {'bipartite': 0, 'platform': 'Twitter'}), ('1440580834029826051', {'bipartite': 0, 'platform': 'Twitter'}), ('1440039448847085574', {'bipartite': 0, 'platform': 'Twitter'}), ('1439984914095648772', {'bipartite': 0, 'platform': 'Twitter'}), ('1439945990119870474', {'bipartite': 0, 'platform': 'Twitter'}), ('1439937848195657738', {'bipartite': 0, 'platform': 'Twitter'}), ('1439928895193632771', {'bipartite': 0, 'platform': 'Twitter'}), ('1439156978174074886', {'bipartite': 0, 'platform': 'Twitter'}), ('1437744490807271429', {'bipartite': 0, 'platform': 'Twitter'}), ('1437712463047405571', {'bipartite': 0, 'platform': 'Twitter'}), ('1437472702672130055', {'bipartite': 0, 'platform': 'Twitter'}), ('1437472562078961676', {'bipartite': 0, 'platform': 'Twitter'}), ('1437472102039367680', {'bipartite': 0, 'platform': 'Twitter'}), ('1437469514392817666', {'bipartite': 0, 'platform': 'Twitter'}), ('1436291768971055126', {'bipartite': 0, 'platform': 'Twitter'}), ('1436094733542207490', {'bipartite': 0, 'platform': 'Twitter'}), ('1435953620126666753', {'bipartite': 0, 'platform': 'Twitter'}), ('1435570657278967813', {'bipartite': 0, 'platform': 'Twitter'}), ('1435570079865966595', {'bipartite': 0, 'platform': 'Twitter'}), ('1434935965030682626', {'bipartite': 0, 'platform': 'Twitter'}), ('1434854617716768769', {'bipartite': 0, 'platform': 'Twitter'}), ('1434854222001020935', {'bipartite': 0, 'platform': 'Twitter'}), ('1434544610521518082', {'bipartite': 0, 'platform': 'Twitter'}), ('1434461019837976579', {'bipartite': 0, 'platform': 'Twitter'}), ('1434263265853550600', {'bipartite': 0, 'platform': 'Twitter'}), ('1434263042129281032', {'bipartite': 0, 'platform': 'Twitter'}), ('1434262898122047498', {'bipartite': 0, 'platform': 'Twitter'}), ('1433534326667309067', {'bipartite': 0, 'platform': 'Twitter'}), ('1433509432219119621', {'bipartite': 0, 'platform': 'Twitter'}), ('1432782166145044483', {'bipartite': 0, 'platform': 'Twitter'}), ('1432423317898661891', {'bipartite': 0, 'platform': 'Twitter'}), ('1432359939100528642', {'bipartite': 0, 'platform': 'Twitter'}), ('1432349775979028481', {'bipartite': 0, 'platform': 'Twitter'}), ('1432345161791688712', {'bipartite': 0, 'platform': 'Twitter'}), ('1432342372751380484', {'bipartite': 0, 'platform': 'Twitter'}), ('1432296338440564738', {'bipartite': 0, 'platform': 'Twitter'}), ('1432018449165955080', {'bipartite': 0, 'platform': 'Twitter'}), ('1432016867246460933', {'bipartite': 0, 'platform': 'Twitter'}), ('1432016816663040004', {'bipartite': 0, 'platform': 'Twitter'}), ('1432016760862126096', {'bipartite': 0, 'platform': 'Twitter'}), ('1431221362983583744', {'bipartite': 0, 'platform': 'Twitter'}), ('1431210642107682826', {'bipartite': 0, 'platform': 'Twitter'}), ('1430844012659945477', {'bipartite': 0, 'platform': 'Twitter'}), ('1429912661035298822', {'bipartite': 0, 'platform': 'Twitter'}), ('1429738008626991104', {'bipartite': 0, 'platform': 'Twitter'}), ('1429391219491278853', {'bipartite': 0, 'platform': 'Twitter'}), ('1429390893359026180', {'bipartite': 0, 'platform': 'Twitter'}), ('1427963649927237637', {'bipartite': 0, 'platform': 'Twitter'}), ('1427694461967024128', {'bipartite': 0, 'platform': 'Twitter'}), ('1427284578952224771', {'bipartite': 0, 'platform': 'Twitter'}), ('1427284268565385218', {'bipartite': 0, 'platform': 'Twitter'}), ('1425596572784644101', {'bipartite': 0, 'platform': 'Twitter'}), ('1425150407882461194', {'bipartite': 0, 'platform': 'Twitter'}), ('1423646123902869510', {'bipartite': 0, 'platform': 'Twitter'}), ('1423430477717938179', {'bipartite': 0, 'platform': 'Twitter'}), ('1423386283485896708', {'bipartite': 0, 'platform': 'Twitter'}), ('1422948474790813702', {'bipartite': 0, 'platform': 'Twitter'}), ('1422928997172776965', {'bipartite': 0, 'platform': 'Twitter'}), ('1422904910442602496', {'bipartite': 0, 'platform': 'Twitter'}), ('1422132558347841538', {'bipartite': 0, 'platform': 'Twitter'}), ('1421870513287221263', {'bipartite': 0, 'platform': 'Twitter'}), ('1421748933798334464', {'bipartite': 0, 'platform': 'Twitter'}), ('1420839869270605830', {'bipartite': 0, 'platform': 'Twitter'}), ('1420839834239868935', {'bipartite': 0, 'platform': 'Twitter'}), ('1420054234293325826', {'bipartite': 0, 'platform': 'Twitter'}), ('1419356987964280832', {'bipartite': 0, 'platform': 'Twitter'}), ('1419220136184238082', {'bipartite': 0, 'platform': 'Twitter'}), ('1418868010593525763', {'bipartite': 0, 'platform': 'Twitter'}), ('1418549308685799430', {'bipartite': 0, 'platform': 'Twitter'}), ('1418128579473334272', {'bipartite': 0, 'platform': 'Twitter'}), ('1417160214051164165', {'bipartite': 0, 'platform': 'Twitter'}), ('1417139575894466562', {'bipartite': 0, 'platform': 'Twitter'}), ('1417040489635790853', {'bipartite': 0, 'platform': 'Twitter'}), ('1416672474578751488', {'bipartite': 0, 'platform': 'Twitter'}), ('1416478554934611977', {'bipartite': 0, 'platform': 'Twitter'}), ('1415954394772815873', {'bipartite': 0, 'platform': 'Twitter'}), ('1414923694296735745', {'bipartite': 0, 'platform': 'Twitter'}), ('1414923662331977730', {'bipartite': 0, 'platform': 'Twitter'}), ('1414912624916144130', {'bipartite': 0, 'platform': 'Twitter'}), ('1414856005909893120', {'bipartite': 0, 'platform': 'Twitter'}), ('1414855081464406017', {'bipartite': 0, 'platform': 'Twitter'}), ('1414570554145845249', {'bipartite': 0, 'platform': 'Twitter'}), ('1414162782996606977', {'bipartite': 0, 'platform': 'Twitter'}), ('1413608723826847746', {'bipartite': 0, 'platform': 'Twitter'}), ('1413241439191015427', {'bipartite': 0, 'platform': 'Twitter'}), ('1413241390717353987', {'bipartite': 0, 'platform': 'Twitter'}), ('1411276460187398145', {'bipartite': 0, 'platform': 'Twitter'}), ('1410944037851480065', {'bipartite': 0, 'platform': 'Twitter'}), ('1410940619036545024', {'bipartite': 0, 'platform': 'Twitter'}), ('1410940579052195843', {'bipartite': 0, 'platform': 'Twitter'}), ('1410744090476482563', {'bipartite': 0, 'platform': 'Twitter'}), ('1410717136109068288', {'bipartite': 0, 'platform': 'Twitter'}), ('1410695516908933123', {'bipartite': 0, 'platform': 'Twitter'}), ('1410641736922275846', {'bipartite': 0, 'platform': 'Twitter'}), ('1410568400561115137', {'bipartite': 0, 'platform': 'Twitter'}), ('1410568097849917445', {'bipartite': 0, 'platform': 'Twitter'}), ('1410271229521629188', {'bipartite': 0, 'platform': 'Twitter'}), ('1410248808605306891', {'bipartite': 0, 'platform': 'Twitter'}), ('1410141653109780481', {'bipartite': 0, 'platform': 'Twitter'}), ('1409864996952150025', {'bipartite': 0, 'platform': 'Twitter'}), ('1407426029241651204', {'bipartite': 0, 'platform': 'Twitter'}), ('1407425462532546573', {'bipartite': 0, 'platform': 'Twitter'}), ('1406965132601798656', {'bipartite': 0, 'platform': 'Twitter'}), ('1406964519616798721', {'bipartite': 0, 'platform': 'Twitter'}), ('1406900183443644417', {'bipartite': 0, 'platform': 'Twitter'}), ('1406539452122546177', {'bipartite': 0, 'platform': 'Twitter'}), ('1406188535539974149', {'bipartite': 0, 'platform': 'Twitter'}), ('1405458365413797888', {'bipartite': 0, 'platform': 'Twitter'}), ('1404697583038177286', {'bipartite': 0, 'platform': 'Twitter'}), ('1404547870062153729', {'bipartite': 0, 'platform': 'Twitter'}), ('1404547690000785410', {'bipartite': 0, 'platform': 'Twitter'}), ('1403996421234249732', {'bipartite': 0, 'platform': 'Twitter'}), ('1403982974627069954', {'bipartite': 0, 'platform': 'Twitter'}), ('1403982963445047297', {'bipartite': 0, 'platform': 'Twitter'}), ('1403981932250255372', {'bipartite': 0, 'platform': 'Twitter'}), ('1402996739305480208', {'bipartite': 0, 'platform': 'Twitter'}), ('1402996639661314050', {'bipartite': 0, 'platform': 'Twitter'}), ('1402590189676027906', {'bipartite': 0, 'platform': 'Twitter'}), ('1402574583853637634', {'bipartite': 0, 'platform': 'Twitter'}), ('1402571247662374921', {'bipartite': 0, 'platform': 'Twitter'}), ('1402207664097181699', {'bipartite': 0, 'platform': 'Twitter'}), ('1402181882939330561', {'bipartite': 0, 'platform': 'Twitter'}), ('1401969062591225860', {'bipartite': 0, 'platform': 'Twitter'}), ('1401293619106091012', {'bipartite': 0, 'platform': 'Twitter'}), ('1401293603046051848', {'bipartite': 0, 'platform': 'Twitter'}), ('1401263800624586753', {'bipartite': 0, 'platform': 'Twitter'}), ('1399777810231795712', {'bipartite': 0, 'platform': 'Twitter'}), ('1399777683597369350', {'bipartite': 0, 'platform': 'Twitter'}), ('1399641309577613315', {'bipartite': 0, 'platform': 'Twitter'}), ('1399641241822838786', {'bipartite': 0, 'platform': 'Twitter'}), ('1399328745236881410', {'bipartite': 0, 'platform': 'Twitter'}), ('1399077737202135043', {'bipartite': 0, 'platform': 'Twitter'}), ('1398960339891494912', {'bipartite': 0, 'platform': 'Twitter'}), ('1398411408417689607', {'bipartite': 0, 'platform': 'Twitter'}), ('1398272552196349953', {'bipartite': 0, 'platform': 'Twitter'}), ('1398272329726185472', {'bipartite': 0, 'platform': 'Twitter'}), ('1397893510527963136', {'bipartite': 0, 'platform': 'Twitter'}), ('1397833389512740864', {'bipartite': 0, 'platform': 'Twitter'}), ('1397829681521516546', {'bipartite': 0, 'platform': 'Twitter'}), ('1397819371167309828', {'bipartite': 0, 'platform': 'Twitter'}), ('1397302199152152576', {'bipartite': 0, 'platform': 'Twitter'}), ('1397300543291334658', {'bipartite': 0, 'platform': 'Twitter'}), ('1396934609716359170', {'bipartite': 0, 'platform': 'Twitter'}), ('1396755905002213381', {'bipartite': 0, 'platform': 'Twitter'}), ('1396755733098680322', {'bipartite': 0, 'platform': 'Twitter'}), ('1396441309125173252', {'bipartite': 0, 'platform': 'Twitter'}), ('1396398366846820353', {'bipartite': 0, 'platform': 'Twitter'}), ('1396392726288031745', {'bipartite': 0, 'platform': 'Twitter'}), ('1396392442514001920', {'bipartite': 0, 'platform': 'Twitter'}), ('1396375866704384003', {'bipartite': 0, 'platform': 'Twitter'}), ('1395999255622569984', {'bipartite': 0, 'platform': 'Twitter'}), ('1395826451220516868', {'bipartite': 0, 'platform': 'Twitter'}), ('1395745192037191680', {'bipartite': 0, 'platform': 'Twitter'}), ('1395395718676897800', {'bipartite': 0, 'platform': 'Twitter'}), ('1395052500529647634', {'bipartite': 0, 'platform': 'Twitter'}), ('1394920962773094400', {'bipartite': 0, 'platform': 'Twitter'}), ('1394920871987453955', {'bipartite': 0, 'platform': 'Twitter'}), ('1394743600035082255', {'bipartite': 0, 'platform': 'Twitter'}), ('1393839146674835461', {'bipartite': 0, 'platform': 'Twitter'}), ('1392466553006960641', {'bipartite': 0, 'platform': 'Twitter'}), ('1392466515342024704', {'bipartite': 0, 'platform': 'Twitter'}), ('1392095535604117505', {'bipartite': 0, 'platform': 'Twitter'}), ('1391795665169158147', {'bipartite': 0, 'platform': 'Twitter'}), ('1391667653761282048', {'bipartite': 0, 'platform': 'Twitter'}), ('1391313575390715904', {'bipartite': 0, 'platform': 'Twitter'}), ('1391309935246561280', {'bipartite': 0, 'platform': 'Twitter'}), ('1391086001297178626', {'bipartite': 0, 'platform': 'Twitter'}), ('1390729190819905537', {'bipartite': 0, 'platform': 'Twitter'}), ('1390713457226489856', {'bipartite': 0, 'platform': 'Twitter'}), ('1390249968682868737', {'bipartite': 0, 'platform': 'Twitter'}), ('1390249850625736709', {'bipartite': 0, 'platform': 'Twitter'}), ('1390249676113387521', {'bipartite': 0, 'platform': 'Twitter'}), ('1390223186541879297', {'bipartite': 0, 'platform': 'Twitter'}), ('1390048494170394628', {'bipartite': 0, 'platform': 'Twitter'}), ('1390048382371127296', {'bipartite': 0, 'platform': 'Twitter'}), ('1389996210354798592', {'bipartite': 0, 'platform': 'Twitter'}), ('1389996044352737286', {'bipartite': 0, 'platform': 'Twitter'}), ('1389853506849345538', {'bipartite': 0, 'platform': 'Twitter'}), ('1389215340677287936', {'bipartite': 0, 'platform': 'Twitter'}), ('1389127989766545411', {'bipartite': 0, 'platform': 'Twitter'}), ('1389127861987127300', {'bipartite': 0, 'platform': 'Twitter'}), ('1388839011536474113', {'bipartite': 0, 'platform': 'Twitter'}), ('1388765793589075969', {'bipartite': 0, 'platform': 'Twitter'}), ('1388151922566303746', {'bipartite': 0, 'platform': 'Twitter'}), ('1388100183146344457', {'bipartite': 0, 'platform': 'Twitter'}), ('1387014412159041539', {'bipartite': 0, 'platform': 'Twitter'}), ('1387014334895828994', {'bipartite': 0, 'platform': 'Twitter'}), ('1386786355204734978', {'bipartite': 0, 'platform': 'Twitter'}), ('1386706700456108033', {'bipartite': 0, 'platform': 'Twitter'}), ('1386674008930799617', {'bipartite': 0, 'platform': 'Twitter'}), ('1386672718255435776', {'bipartite': 0, 'platform': 'Twitter'}), ('1386323023452585984', {'bipartite': 0, 'platform': 'Twitter'}), ('1386235038484815875', {'bipartite': 0, 'platform': 'Twitter'}), ('1385591217623375873', {'bipartite': 0, 'platform': 'Twitter'}), ('1385521891918729217', {'bipartite': 0, 'platform': 'Twitter'}), ('1385518448051200003', {'bipartite': 0, 'platform': 'Twitter'}), ('1385215222718337025', {'bipartite': 0, 'platform': 'Twitter'}), ('1384742643738062848', {'bipartite': 0, 'platform': 'Twitter'}), ('1384742632522493953', {'bipartite': 0, 'platform': 'Twitter'}), ('biodiversité', {'bipartite': 1}), ('zonesauvage', {'bipartite': 1}), ('primairepopulaire', {'bipartite': 1}), ('monde', {'bipartite': 1}), ('giec', {'bipartite': 1}), ('cop26', {'bipartite': 1}), ('artisanat', {'bipartite': 1}), ('vegan', {'bipartite': 1}), ('30k', {'bipartite': 1}), ('afghanistan', {'bipartite': 1}), ('passsanitaire', {'bipartite': 1}), ('bleuetfier', {'bipartite': 1}), ('handball', {'bipartite': 1}), ('tokyo2020', {'bipartite': 1}), ('olympics', {'bipartite': 1}), ('france', {'bipartite': 1}), ('intergénérationnel', {'bipartite': 1}), ('cdd', {'bipartite': 1}), ('podcasts', {'bipartite': 1}), ('backseat', {'bipartite': 1}), ('salepute', {'bipartite': 1}), ('blissstories', {'bipartite': 1}), ('bli', {'bipartite': 1}), ('mcflyetcarlito', {'bipartite': 1}), ('macron', {'bipartite': 1}), ('hayange', {'bipartite': 1}), ('ecologie', {'bipartite': 1}), ('podcast', {'bipartite': 1}), ('feminicide', {'bipartite': 1}), ('changementclimatiqu', {'bipartite': 1}), ('plusbellelavie', {'bipartite': 1}), ('animaux', {'bipartite': 1}), ('animauxsauvages', {'bipartite': 1}), ('aspas', {'bipartite': 1}), ('chasse', {'bipartite': 1}), ('nature', {'bipartite': 1}), ('biodiversite', {'bipartite': 1}), ('antispeciste', {'bipartite': 1}), ('seashepherd', {'bipartite': 1}), ('instanimal', {'bipartite': 1}), ('tlmsf', {'bipartite': 1}), ('podcastfr', {'bipartite': 1}), ('podcastfrancais', {'bipartite': 1}), ('sansfiltrecdc', {'bipartite': 1}), ('partenariat', {'bipartite': 1}), ('intergenerationnel', {'bipartite': 1}), ('habitatpartagé', {'bipartite': 1}), ('economiesociale', {'bipartite': 1}), ('humanitaire', {'bipartite': 1}), ('postbac', {'bipartite': 1}), ('parcourssup', {'bipartite': 1}), ('metiergreen', {'bipartite': 1}), ('onestpret', {'bipartite': 1}), ('cannes21', {'bipartite': 1}), ('cinemapourleclimat', {'bipartite': 1}), ('onestprets', {'bipartite': 1}), ('infertilite', {'bipartite': 1}), ('pma', {'bipartite': 1}), ('fiv', {'bipartite': 1}), ('pmette', {'bipartite': 1}), ('bd', {'bipartite': 1}), ('unbebesijepeux', {'bipartite': 1}), ('endogirl', {'bipartite': 1}), ('endometriose', {'bipartite': 1}), ('sopk', {'bipartite': 1}), ('gregfromparis', {'bipartite': 1}), ('vlanpodcast', {'bipartite': 1}), ('parcoursup2021', {'bipartite': 1}), ('parcoursup', {'bipartite': 1}), ('études', {'bipartite': 1}), ('blissboutique', {'bipartite': 1}), ('maternité', {'bipartite': 1}), ('epargne', {'bipartite': 1}), ('financeverte', {'bipartite': 1}), ('yannarthusbertrand', {'bipartite': 1}), ('goodplanet', {'bipartite': 1}), ('legacy', {'bipartite': 1}), ('verdragon', {'bipartite': 1}), ('fatimaouassak', {'bipartite': 1}), ('frontdemères', {'bipartite': 1}), ('pourquoiprincesse', {'bipartite': 1}), ('nouveaumodèle', {'bipartite': 1}), ('vetementsfille', {'bipartite': 1}), ('modeethique', {'bipartite': 1}), ('nouveaumodele', {'bipartite': 1}), ('pridemonth', {'bipartite': 1}), ('fierté', {'bipartite': 1}), ('soifdesens', {'bipartite': 1}), ('genielesbien', {'bipartite': 1}), ('génielesbien', {'bipartite': 1}), ('feminisme', {'bipartite': 1}), ('lesbianisme', {'bipartite': 1}), ('alicecoffin', {'bipartite': 1}), ('pmapourtoustes', {'bipartite': 1}), ('pmapourtoutes', {'bipartite': 1}), ('lgbtfrance', {'bipartite': 1}), ('lesbiennesfrance', {'bipartite': 1}), ('leroinavaitpasri', {'bipartite': 1}), ('meurice', {'bipartite': 1}), ('instabook', {'bipartite': 1}), ('livre', {'bipartite': 1}), ('livres', {'bipartite': 1}), ('instalivres', {'bipartite': 1}), ('parjupiter', {'bipartite': 1}), ('guillaumemeurice', {'bipartite': 1}), ('parjupitert', {'bipartite': 1}), ('optimisme', {'bipartite': 1}), ('meditation', {'bipartite': 1}), ('metoo', {'bipartite': 1}), ('noustoutes', {'bipartite': 1}), ('metoofr', {'bipartite': 1}), ('collages', {'bipartite': 1}), ('colleuses', {'bipartite': 1}), ('sexisme', {'bipartite': 1}), ('ecolo', {'bipartite': 1}), ('ecofeminisme', {'bipartite': 1}), ('climatechange', {'bipartite': 1})]\n"
     ]
    }
   ],
   "source": [
    "print(nx.info(G))\n",
    "print(G.nodes(data=True))"
   ]
  },
  {
   "cell_type": "code",
   "execution_count": 68,
   "id": "12cf44fd",
   "metadata": {},
   "outputs": [],
   "source": [
    "part_1=[]\n",
    "color_map=[]\n",
    "\n",
    "for n , v in G.nodes(data=True):\n",
    "    if v[\"bipartite\"] == 0 : \n",
    "        part_1.append(n)\n",
    "    else :\n",
    "        pass"
   ]
  },
  {
   "cell_type": "code",
   "execution_count": 69,
   "id": "61c8eefe",
   "metadata": {},
   "outputs": [],
   "source": [
    "color_map=[]\n",
    "\n",
    "for node , value in G.nodes(data=True):\n",
    "    try :\n",
    "        if value[\"platform\"] == \"Instagram\" :\n",
    "            color_map.append(\"red\")\n",
    "        else : \n",
    "            color_map.append(\"blue\")\n",
    "    except :\n",
    "        color_map.append(\"grey\")"
   ]
  },
  {
   "cell_type": "code",
   "execution_count": 70,
   "id": "c90e5fd0",
   "metadata": {},
   "outputs": [],
   "source": [
    "colors = dict(zip(G.nodes, color_map))\n",
    "nx.set_node_attributes(G, {k:v for k,v in colors.items()},'colors' )\n",
    "degree=dict(G.degree)\n",
    "degree.update((x , y*float(3))for x, y in degree.items())\n",
    "nx.set_node_attributes(G, {k:v for k,v in degree.items()},'degree' )"
   ]
  },
  {
   "cell_type": "code",
   "execution_count": 71,
   "id": "811fb0ae",
   "metadata": {},
   "outputs": [],
   "source": [
    "plot = Plot(width=1200, height=1200,\n",
    "            x_range=Range1d(-1.1, 1.1), y_range=Range1d(-1.1, 1.1))\n",
    "plot.title.text = \"Graph visualization\"\n",
    "\n",
    "graph_renderer = from_networkx(G, nx.bipartite_layout(G,part_1), scale=1, center=(0, 0))\n",
    "\n",
    "node_hover_tool = HoverTool(tooltips=[(\"index\", \"@index\"), (\"platform\", \"@platform\")])\n",
    "plot.add_tools(node_hover_tool, BoxZoomTool(), ResetTool())\n",
    "plot.add_tools(HoverTool(tooltips=None), TapTool(), BoxSelectTool())\n",
    "\n",
    "graph_renderer.node_renderer.glyph = Circle(size='degree', fill_color='colors')\n",
    "graph_renderer.node_renderer.selection_glyph = Circle(size=10, fill_color=Spectral4[2])\n",
    "graph_renderer.node_renderer.hover_glyph = Circle(size=10, fill_color=Spectral4[1])\n",
    "\n",
    "graph_renderer.edge_renderer.glyph = MultiLine(line_color=\"#808080\", line_alpha=0.8, line_width=1)\n",
    "graph_renderer.edge_renderer.selection_glyph = MultiLine(line_color=Spectral4[2], line_width=5)\n",
    "graph_renderer.edge_renderer.hover_glyph = MultiLine(line_color=Spectral4[1], line_width=5)\n",
    "\n",
    "graph_renderer.selection_policy = NodesAndLinkedEdges()\n",
    "\n",
    "plot.renderers.append(graph_renderer)\n",
    "\n",
    "show(plot)"
   ]
  },
  {
   "cell_type": "code",
   "execution_count": 72,
   "id": "9e0d89c5",
   "metadata": {},
   "outputs": [],
   "source": [
    "Gm=nx.read_gml(\"\") #Merged network"
   ]
  },
  {
   "cell_type": "code",
   "execution_count": 93,
   "id": "2038ccb4",
   "metadata": {},
   "outputs": [],
   "source": [
    "color_map=[]\n",
    "\n",
    "for node , value in Gm.nodes(data=True):\n",
    "    try :\n",
    "        if value[\"platform\"] == \"Instagram\" :\n",
    "            color_map.append(\"red\")\n",
    "        else : \n",
    "            color_map.append(\"blue\")\n",
    "    except :\n",
    "        color_map.append(\"grey\")\n",
    "        \n",
    "colors = dict(zip(Gm.nodes, color_map))\n",
    "nx.set_node_attributes(Gm, {k:v for k,v in colors.items()},'colors' )\n",
    "\n",
    "\n",
    "degree=dict(Gm.degree)\n",
    "degree.update((x , y)for x, y in degree.items())\n",
    "nx.set_node_attributes(Gm, {k:v for k,v in degree.items()},'degree' )\n",
    "\n",
    "\n",
    "df = pd.DataFrame(index=Gm.nodes(), columns=Gm.nodes())\n",
    "for row, data in nx.shortest_path_length(Gm):\n",
    "    for col, dist in data.items():\n",
    "        df.loc[row,col] = dist\n",
    "\n",
    "pos = nx.spring_layout(Gm, k=0.3*1/np.sqrt(len(Gm.nodes())), iterations=20)"
   ]
  },
  {
   "cell_type": "code",
   "execution_count": 94,
   "id": "db8e3e60",
   "metadata": {},
   "outputs": [],
   "source": [
    "plot = Plot(width=2000, height=2000,\n",
    "            x_range=Range1d(-1.1, 1.1), y_range=Range1d(-1.1, 1.1))\n",
    "plot.title.text = \"Graph\"\n",
    "\n",
    "node_hover_tool = HoverTool(tooltips=[(\"index\", \"@index\"), (\"club\", \"@club\")])\n",
    "plot.add_tools(node_hover_tool, BoxZoomTool(), ResetTool())\n",
    "plot.add_tools(HoverTool(tooltips=None), TapTool(), BoxSelectTool())\n",
    "\n",
    "graph_renderer = from_networkx(Gm, nx.kamada_kawai_layout, scale=1, center=(0, 0), pos=pos)\n",
    "\n",
    "graph_renderer.node_renderer.glyph = Circle(size='degree', fill_color='colors')\n",
    "graph_renderer.edge_renderer.glyph = MultiLine(line_color=\"#808080\", line_alpha=0.8, line_width=1)\n",
    "graph_renderer.edge_renderer.selection_glyph = MultiLine(line_color=Spectral4[2], line_width=5)\n",
    "graph_renderer.edge_renderer.hover_glyph = MultiLine(line_color=Spectral4[1], line_width=5)\n",
    "\n",
    "plot.renderers.append(graph_renderer)\n",
    "\n",
    "graph_renderer.selection_policy = NodesAndLinkedEdges()\n",
    "\n",
    "show(plot)"
   ]
  },
  {
   "cell_type": "code",
   "execution_count": null,
   "id": "7b0fa4e5",
   "metadata": {},
   "outputs": [],
   "source": []
  }
 ],
 "metadata": {
  "kernelspec": {
   "display_name": "Python 3",
   "language": "python",
   "name": "python3"
  },
  "language_info": {
   "codemirror_mode": {
    "name": "ipython",
    "version": 3
   },
   "file_extension": ".py",
   "mimetype": "text/x-python",
   "name": "python",
   "nbconvert_exporter": "python",
   "pygments_lexer": "ipython3",
   "version": "3.8.8"
  }
 },
 "nbformat": 4,
 "nbformat_minor": 5
}
